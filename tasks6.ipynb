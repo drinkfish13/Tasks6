{
 "cells": [
  {
   "cell_type": "code",
   "execution_count": 1,
   "metadata": {},
   "outputs": [
    {
     "name": "stdout",
     "output_type": "stream",
     "text": [
      "Е777КХ95\n",
      "('Е777КХ', '95')\n"
     ]
    }
   ],
   "source": [
    "import re\n",
    "str_ = input()\n",
    "def ekx(st):\n",
    "    pattern = '[АВЕКМНОРСТУХ]\\d{3}[АВЕКМНОРСТУХ][АВЕКМНОРСТУХ]\\d{2,3}$'\n",
    "    if re.match(pattern, st):\n",
    "        gov_number = re.findall('[АВЕКМНОРСТУХ]\\d{3}[АВЕКМНОРСТУХ][АВЕКМНОРСТУХ]', st)\n",
    "        gov_region = re.findall('\\d{2,3}$', st)\n",
    "        return gov_number[0],gov_region[0]\n",
    "    else:\n",
    "        return 'Номер некорректный'\n",
    "print(ekx(str_))"
   ]
  },
  {
   "cell_type": "code",
   "execution_count": 2,
   "metadata": {},
   "outputs": [
    {
     "name": "stdout",
     "output_type": "stream",
     "text": [
      "olossg@gmail.com\n",
      "корректный\n"
     ]
    }
   ],
   "source": [
    "import re\n",
    "email= input()\n",
    "def check_email(adress):\n",
    "    if re.match(r\"[^@]+@[^@]+\\.[^@]+\", adress): # вполне себе пригодный вариант\n",
    "    #if re.match(r\"регулярное выражение отсюда http://www.ex-parrot.com/pdw/Mail-RFC822-Address.html\", email): - понять выражение не получилось по причине \"шоб оно горело\"\n",
    "        return 'корректный'\n",
    "    else:\n",
    "        return 'некорректный'\n",
    "print(check_email(email))"
   ]
  },
  {
   "cell_type": "code",
   "execution_count": 3,
   "metadata": {},
   "outputs": [
    {
     "name": "stdout",
     "output_type": "stream",
     "text": [
      "United Stais america\n",
      "USA\n"
     ]
    }
   ],
   "source": [
    "import re\n",
    "text_= input()\n",
    "def acronym(tex):\n",
    "    list_=re.sub(r\"([a-zA-Z])[a-z,A-Z]+\\s*\",r\"\\1\",tex).upper()\n",
    "    return list_\n",
    "print(acronym(text_))\n"
   ]
  },
  {
   "cell_type": "code",
   "execution_count": 4,
   "metadata": {},
   "outputs": [
    {
     "name": "stdout",
     "output_type": "stream",
     "text": [
      "cat cat dog\n",
      "cat dog\n"
     ]
    }
   ],
   "source": [
    "import re\n",
    "content = input()\n",
    "def corrector(text):\n",
    "    text = re.sub(r'\\b(\\w+)( \\1\\b)+', r'\\1', text)\n",
    "    return text\n",
    "print(corrector(content))\n"
   ]
  },
  {
   "cell_type": "code",
   "execution_count": null,
   "metadata": {},
   "outputs": [],
   "source": []
  }
 ],
 "metadata": {
  "kernelspec": {
   "display_name": "Python 3",
   "language": "python",
   "name": "python3"
  },
  "language_info": {
   "codemirror_mode": {
    "name": "ipython",
    "version": 3
   },
   "file_extension": ".py",
   "mimetype": "text/x-python",
   "name": "python",
   "nbconvert_exporter": "python",
   "pygments_lexer": "ipython3",
   "version": "3.7.3"
  }
 },
 "nbformat": 4,
 "nbformat_minor": 2
}
